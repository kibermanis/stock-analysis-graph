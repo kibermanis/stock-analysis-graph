{
 "cells": [
  {
   "cell_type": "code",
   "execution_count": 2,
   "metadata": {},
   "outputs": [],
   "source": [
    "from pandas_datareader import data\n",
    "import datetime\n",
    "from bokeh.plotting import figure, show, output_file\n",
    "from bokeh.resources import CDN\n",
    "from bokeh.embed import components\n",
    "\n",
    "starta=datetime.datetime(2016,3,1)\n",
    "enda=datetime.datetime(2016,3,10)\n",
    "\n",
    "df=data.DataReader(name='GOOG', data_source=\"yahoo\", start=starta, end=enda)\n",
    "\n",
    "def inc_dec(c,o):\n",
    "    if c>o:\n",
    "        value=\"Increase\"\n",
    "    elif c < o:\n",
    "        value=\"Decrease\"\n",
    "    else:\n",
    "        value=\"Equal\"\n",
    "    return value\n",
    "\n",
    "#define new column \n",
    "df[\"Status\"]= [inc_dec(c,o) for c, o in zip(df.Close,df.Open)]\n",
    "df[\"Middle\"]= (df.Open+df.Close)/2\n",
    "df[\"Height\"]= abs(df.Close-df.Open)\n",
    "\n",
    "\n",
    "p=figure(x_axis_type=\"datetime\", width=1000, height=300, sizing_mode=\"stretch_width\"\n",
    ", title = \"Candlestick\") \n",
    "''' \"stretch_width\"\n",
    "Component will responsively resize to stretch to the available width, without maintaining any aspect ratio. The height of the component depends on the type of the component and may be fixed or fit to component’s contents.'''\n",
    "\n",
    "hours_12=12*60*60*1000\n",
    "p.grid.grid_line_alpha=0.1 #grid lines visibility\n",
    "p.grid.grid_line_color=\"#FF3333\"\n",
    "\n",
    "p.segment(df.index, df.High, df.index, df.Low, line_color=\"black\")\n",
    "\n",
    "p.rect(df.index[df.Status==\"Increase\"],df.Middle[df.Status==\"Increase\"],\n",
    "           hours_12, df.Height[df.Status==\"Increase\"],fill_color=\"#CCFFFF\",line_color=\"black\")\n",
    "\n",
    "p.rect(df.index[df.Status==\"Decrease\"],df.Middle[df.Status==\"Decrease\"],\n",
    "           hours_12, df.Height[df.Status==\"Decrease\"],fill_color=\"#FF3333\",line_color=\"black\")\n",
    "\n",
    "#output_file(\"CS.html\") \n",
    "show(p)"
   ]
  },
  {
   "cell_type": "code",
   "execution_count": null,
   "metadata": {},
   "outputs": [],
   "source": []
  }
 ],
 "metadata": {
  "kernelspec": {
   "name": "python3",
   "display_name": "Python 3.8.5 64-bit",
   "metadata": {
    "interpreter": {
     "hash": "348907d6a805e3aff18463777e68219ad9f9877e8378b9312fcb98293899dbee"
    }
   }
  },
  "language_info": {
   "codemirror_mode": {
    "name": "ipython",
    "version": 3
   },
   "file_extension": ".py",
   "mimetype": "text/x-python",
   "name": "python",
   "nbconvert_exporter": "python",
   "pygments_lexer": "ipython3",
   "version": "3.8.5-final"
  }
 },
 "nbformat": 4,
 "nbformat_minor": 4
}